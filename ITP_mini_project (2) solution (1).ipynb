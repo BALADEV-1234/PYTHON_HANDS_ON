{
 "cells": [
  {
   "cell_type": "markdown",
   "metadata": {},
   "source": [
    "# <center>PGP Data Science Engineering</center>\n",
    "## <center>Introduction to Programming – Mini Project:</center>\n"
   ]
  },
  {
   "cell_type": "markdown",
   "metadata": {},
   "source": [
    "### Problem 1:\n",
    "\n",
    "1. Write a program to calculate area of shapes. Your program should be capable of calculating the area of a square, rectangle, triangle and a circle. The user should be presented with options to select the shape. Based on which shape is chosed by the user, the program should ask for the appropriate input and print the resulting area on the screen.\n",
    "\n",
    "When the program is run, the screen should display something like this:\n",
    "\n",
    "**Which shape would you like to calculate the area for? Please enter the option number-**<br>\n",
    "**1. Square**<br>\n",
    "**2. Rectangle**<br>\n",
    "**3. Triangle**<br>\n",
    "**4. Circle**<br>\n",
    "**Enter Option: _**\n",
    "\n",
    "Say the user enters the option 1.\n",
    "\n",
    "**Please enter the length of a side: _**\n",
    "\n",
    "If the user enters a value of 5. The output should be:\n",
    "\n",
    "**The area of the square is 25**\n",
    "\n",
    "This program should indicate that the input is invalid if the user enters a character instead of a number as input. For instance if the user enters a value of ‘a’ instead of 5 in the previous example the program should prompt:\n",
    "\n",
    "**Invalid input, please enter a number: _**\n"
   ]
  },
  {
   "cell_type": "code",
   "execution_count": 3,
   "metadata": {},
   "outputs": [
    {
     "name": "stdout",
     "output_type": "stream",
     "text": [
      "Which shape would you like to calculate the area for?\n",
      " Please enter the option number:-\n",
      " 1. Square \n",
      " 2. Rectangle\n",
      " 3. Triangle\n",
      " 4. Circle\n",
      "d\n",
      "Invalid input, please enter a number: \n"
     ]
    }
   ],
   "source": [
    "import math as m\n",
    "shape=input('Which shape would you like to calculate the area for?\\n Please enter the option number:-\\n 1. Square \\n 2. Rectangle\\n 3. Triangle\\n 4. Circle\\n')\n",
    "if shape.isnumeric():\n",
    "    if int(shape)==1:\n",
    "        side=int(input('Please enter the side of the Square:'))\n",
    "        print('The area of the square is:',side**2)\n",
    "    elif int(shape)==2:\n",
    "        length=int(input('Please enter the length of the Rectangle:'))\n",
    "        breath=int(input('Please enter the breath of the Rectangle:'))\n",
    "        print('The area of the Rectangle is:',length*breath)\n",
    "    elif int(shape)==3:\n",
    "        base=int(input('Please enter the base of the Triangle:'))\n",
    "        height=int(input('Please Enter the height of the Triangle:'))\n",
    "        print('The area of Triangle is:',0.5*base*height)\n",
    "    elif int(shape)==4:\n",
    "        Radius=int(input('Please enter the radius of the Circle:'))\n",
    "        print('The area of the circle is:',m.pi*(Radius**2))\n",
    "    \n",
    "    elif int(shape)>4:\n",
    "        print('Sorry please enter a number between 1 to 4.')\n",
    "else:\n",
    "    print('Invalid input, please enter a number: ')\n",
    "    \n",
    "    \n",
    "    \n",
    "    "
   ]
  },
  {
   "cell_type": "markdown",
   "metadata": {},
   "source": [
    "### Problem 2:\n",
    "\n",
    "Create and encrypter in python based on the ceaser cipher. It is a substitution cipher where each character of the original text is shifted a certain number characters in the alphabet. Write a function that would require 2 arguments – the input text to be encrypted and a key. For eg: Given the input text ‘hello’ and the key 3, the resulting encryted text would be ‘khoor’. Here you can see that every character in the string hello is shifted by 3 characters. ‘h’ has shifted to ‘k’, ‘e’ has shifted to ‘h’ and so on. If a key of 5 were used, the resulting string would be ‘mjqqt’. This function should be capable of ignoring any characters which are not alphabets. Th2 character ‘z’ entered b\n",
    "y the user for a key of 3 would result in ‘c’.\n",
    "\n",
    "Usage:<br>\n",
    "**encrypt(‘hello world!’, 3)**<br>\n",
    "**‘khoor zruog!’**\n",
    "\n",
    "Similarly create decrypter which can decode the encryted text when provided the input text and key\n",
    "\n",
    "Usage:<br>\n",
    "**decrypt(‘khoor zruog!’, 3)**<br>\n",
    "**‘hello world!’**\n",
    "\n",
    "For the sake of simplicity you can assume that input solely consists of lowercase alphabets, spaces and punctuation symbols. Numbers in the input text would also be ignored similar to symbols."
   ]
  },
  {
   "cell_type": "code",
   "execution_count": 4,
   "metadata": {},
   "outputs": [],
   "source": [
    "def encrypt(text, key): \n",
    "    encrypted = \"\" \n",
    "    for i in range(len(text)): \n",
    "        alpha= text[i]\n",
    "        if alpha.isalpha():\n",
    "            if alpha.isupper(): \n",
    "                encrypted += chr((ord( alpha) + key-65) % 26 + 65) \n",
    "            else: \n",
    "                encrypted += chr((ord( alpha) + key - 97) % 26 + 97) \n",
    "        else:\n",
    "            encrypted+=alpha\n",
    "  \n",
    "    return  encrypted"
   ]
  },
  {
   "cell_type": "code",
   "execution_count": 5,
   "metadata": {},
   "outputs": [
    {
     "data": {
      "text/plain": [
       "'khoor zruog!'"
      ]
     },
     "execution_count": 5,
     "metadata": {},
     "output_type": "execute_result"
    }
   ],
   "source": [
    "encrypt('hello world!', 3)"
   ]
  },
  {
   "cell_type": "code",
   "execution_count": 6,
   "metadata": {},
   "outputs": [],
   "source": [
    "def decrypt(text, key): \n",
    "    decrypted = \"\" \n",
    "    for i in range(len(text)): \n",
    "        alpha= text[i]\n",
    "        if alpha.isalpha():\n",
    "            if alpha.isupper(): \n",
    "                decrypted += chr((ord( alpha) - key - 65) % 26 + 65) \n",
    "            else: \n",
    "                decrypted += chr((ord( alpha) - key - 97) % 26 + 97) \n",
    "        else:\n",
    "            decrypted+=alpha\n",
    "  \n",
    "    return  decrypted"
   ]
  },
  {
   "cell_type": "code",
   "execution_count": 7,
   "metadata": {},
   "outputs": [
    {
     "data": {
      "text/plain": [
       "'hello world!'"
      ]
     },
     "execution_count": 7,
     "metadata": {},
     "output_type": "execute_result"
    }
   ],
   "source": [
    "decrypt('khoor zruog!', 3)"
   ]
  }
 ],
 "metadata": {
  "kernelspec": {
   "display_name": "Python 3",
   "language": "python",
   "name": "python3"
  },
  "language_info": {
   "codemirror_mode": {
    "name": "ipython",
    "version": 3
   },
   "file_extension": ".py",
   "mimetype": "text/x-python",
   "name": "python",
   "nbconvert_exporter": "python",
   "pygments_lexer": "ipython3",
   "version": "3.8.3"
  }
 },
 "nbformat": 4,
 "nbformat_minor": 2
}
